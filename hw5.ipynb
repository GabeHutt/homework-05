{
  "cells": [
    {
      "cell_type": "markdown",
      "metadata": {},
      "source": [
        "---\n",
        "title: Homework 4\n",
        "jupyter: python3\n",
        "---\n",
        "\n",
        "\n",
        "This assignment will continue to use the American Community Survey (ACS) from the US Census.\n",
        "You will need to refer to the documentation to know what the ACS variable names mean. You can find a copy of the codebook in the [Lab 4 folder on Google Drive](https://drive.google.com/drive/u/0/folders/1jkY0mTxBhwOvvCJE_CJ3LWiOr_9V1ojZ)\n"
      ]
    },
    {
      "cell_type": "code",
      "execution_count": 16,
      "metadata": {},
      "outputs": [],
      "source": [
        "import warnings\n",
        "warnings.simplefilter(action='ignore', category=FutureWarning)\n",
        "\n",
        "import pandas as pd\n",
        "import numpy as np\n",
        "import seaborn as sb\n",
        "import matplotlib.pyplot as plt\n",
        "pd.options.mode.chained_assignment = None"
      ]
    },
    {
      "cell_type": "code",
      "execution_count": 17,
      "metadata": {},
      "outputs": [],
      "source": [
        "acs = pd.read_csv(\"./pums_short.csv.gz\")"
      ]
    },
    {
      "cell_type": "markdown",
      "metadata": {},
      "source": [
        "## Question 1: Working with missing data\n",
        "\n",
        "### Q1.a\n",
        "\n",
        "In the previous lab we counted the number of missing values for the `\"RNTP\"` column using"
      ]
    },
    {
      "cell_type": "code",
      "execution_count": 18,
      "metadata": {},
      "outputs": [
        {
          "name": "stdout",
          "output_type": "stream",
          "text": [
            "RNTP Sum:  202728 VALP Sum:  97644\n"
          ]
        }
      ],
      "source": [
        "rntp_sum = acs[\"RNTP\"].isna().sum()\n",
        "valp_sum = acs[\"VALP\"].isna().sum()\n",
        "print(\"RNTP Sum: \",rntp_sum, \"VALP Sum: \", valp_sum)"
      ]
    },
    {
      "cell_type": "markdown",
      "metadata": {},
      "source": [
        "Repeat for the `\"VALP\"` column. (If you want, you can compute both totals simultaneously.)\n",
        "\n",
        "Print out the total number of rows in the `acs` table. What do you notice about the total number of rows and the sum of the missing values for these two columns?\n",
        "\n"
      ]
    },
    {
      "cell_type": "code",
      "execution_count": 19,
      "metadata": {},
      "outputs": [
        {
          "name": "stdout",
          "output_type": "stream",
          "text": [
            "Number of rows: 276632\n",
            "Number of total missing rows in RNTP and VALP:  300372\n"
          ]
        }
      ],
      "source": [
        "print(\"Number of rows:\", len(acs))\n",
        "print(\"Number of total missing rows in RNTP and VALP: \", rntp_sum + valp_sum)\n"
      ]
    },
    {
      "cell_type": "markdown",
      "metadata": {},
      "source": [
        "Q1a: The total number of rows is less than the number of missing rows in the RNTP and VALP columns. Note can also be taken on the fact that the rows missing in RNTP and VALP do not correlate with eachother. It can also be presumed that over half of the values are missing for one of the two columns\n"
      ]
    },
    {
      "cell_type": "markdown",
      "metadata": {},
      "source": [
        "\n",
        "\n",
        "### Q1.b\n",
        "\n",
        "Write a single line of code that proves that 100% of observations are missing either the `\"VALP\"` or `\"RNTP\"` measurements.\n"
      ]
    },
    {
      "cell_type": "code",
      "execution_count": 20,
      "metadata": {},
      "outputs": [
        {
          "name": "stdout",
          "output_type": "stream",
          "text": [
            "True\n"
          ]
        }
      ],
      "source": [
        "missing_either = (acs[\"VALP\"].isna() | acs[\"RNTP\"].isna()).mean() == 1\n",
        "print(missing_either)\n"
      ]
    },
    {
      "cell_type": "markdown",
      "metadata": {},
      "source": [
        "\n",
        "\n",
        "### Q1.c\n",
        "\n",
        "The `.dropna()` method has a `subset = ['column1', 'column2']` argument that allows you to indicate which columns your want to use to control how rows are dropped from the result.\n",
        "\n",
        "Create a table called `owners` that only includes households that have non-missing `\"VALP\"` entries. Print out the number of rows in this table and verify it matches the number of observations with *non-missing* `\"VALP\"` entries in `acs`. Hint:"
      ]
    },
    {
      "cell_type": "code",
      "execution_count": 21,
      "metadata": {},
      "outputs": [
        {
          "name": "stdout",
          "output_type": "stream",
          "text": [
            "True\n"
          ]
        }
      ],
      "source": [
        "hint = pd.Series([True, False, False, True])\n",
        "owners = acs.dropna(subset=['VALP'])\n",
        "print(len(owners) == (len(acs) - valp_sum))"
      ]
    },
    {
      "cell_type": "markdown",
      "metadata": {},
      "source": [
        "### Q1.d\n",
        "\n",
        "Using the `owners` table, what **proportion** of rows are missing `\"HINCP\"` values?\n",
        "\n",
        "Find the median value of the non-missing values (hint: built in Panadas methods automatically drop missing values).\n",
        "\n",
        "Using the `.fillna(VALUE, inplace = TRUE)` method, update the `\"HINCP\"` column of the `owners` table by making any missing values equal to median of the non-missing values.\n",
        "\n",
        "Verify by showing that all of the values are not missing for `\"HINCP\"`.\n",
        "\n"
      ]
    },
    {
      "cell_type": "code",
      "execution_count": 22,
      "metadata": {},
      "outputs": [
        {
          "name": "stdout",
          "output_type": "stream",
          "text": [
            "0.01331932867007844\n",
            "0\n"
          ]
        }
      ],
      "source": [
        "# Proportion missing in \"HINCP\"\n",
        "prop_missing = owners[\"HINCP\"].isna().mean()\n",
        "print(prop_missing)\n",
        "\n",
        "# Fill missing \"HINCP\" with median\n",
        "median_hincp = owners[\"HINCP\"].median()\n",
        "owners[\"HINCP\"].fillna(median_hincp, inplace=True)\n",
        "\n",
        "# Verify no missing \"HINCP\"\n",
        "print(owners[\"HINCP\"].isna().sum())\n"
      ]
    },
    {
      "cell_type": "markdown",
      "metadata": {},
      "source": [
        "\n",
        "\n",
        "### Q1.e\n",
        "\n",
        "Repeat the above steps to create a table `renters` that contains only rows for people who are renting (have non-missing `RNTP` values) and median impute any missing `HINCP` values.\n",
        "\n",
        "For both `owners` and `renters` compute the following quantities for the \"HINCP\" column.\n",
        "- mean\n",
        "- median\n",
        "- IQR\n",
        "- standard deviation\n",
        "\n",
        "Which group has the higher location values? Which group has more spread? Comment briefly on what this means.\n",
        "\n"
      ]
    },
    {
      "cell_type": "code",
      "execution_count": 23,
      "metadata": {},
      "outputs": [
        {
          "name": "stdout",
          "output_type": "stream",
          "text": [
            "0.056329833297250484\n",
            "0\n",
            "Mean: 103101.59041946946, Median: 75000.0, IQR: 85100.0, Std Dev: 107811.39422510703\n",
            "Mean: 56607.35456808833, Median: 40000.0, IQR: 49600.0, Std Dev: 64594.46491847602\n",
            "The higher mean and median for homeowners suggest that people who own homes generally have higher incomes. However, the greater spread in income (larger IQR and standard deviation) among homeowners indicates that while many homeowners earn significantly more, there is also a wider range of incomes within this group. This suggests that homeowners include both relatively lower-income individuals and much higher-income individuals. In contrast, renters tend to have more similar incomes, which are generally lower, with less variability across the group.\n"
          ]
        }
      ],
      "source": [
        "# Create renters table (non-missing \"RNTP\")\n",
        "renters = acs.dropna(subset=['RNTP'])\n",
        "\n",
        "# Proportion missing in \"HINCP\"\n",
        "prop_missing_renters = renters[\"HINCP\"].isna().mean()\n",
        "print(prop_missing_renters)\n",
        "\n",
        "# Fill missing \"HINCP\" with median\n",
        "median_hincp_renters = renters[\"HINCP\"].median()\n",
        "renters[\"HINCP\"].fillna(median_hincp_renters, inplace=True)\n",
        "\n",
        "# Verify no missing \"HINCP\"\n",
        "print(renters[\"HINCP\"].isna().sum())\n",
        "\n",
        "# Compute summary statistics for \"HINCP\"\n",
        "for group in [owners, renters]:\n",
        "    mean = group[\"HINCP\"].mean()\n",
        "    median = group[\"HINCP\"].median()\n",
        "    iqr = np.percentile(group[\"HINCP\"].dropna(), 75) - np.percentile(group[\"HINCP\"].dropna(), 25)\n",
        "    std_dev = group[\"HINCP\"].std()\n",
        "\n",
        "    print(f'Mean: {mean}, Median: {median}, IQR: {iqr}, Std Dev: {std_dev}')\n",
        "print(\"The higher mean and median for homeowners suggest that people who own homes generally have higher incomes. However, the greater spread in income (larger IQR and standard deviation) among homeowners indicates that while many homeowners earn significantly more, there is also a wider range of incomes within this group. This suggests that homeowners include both relatively lower-income individuals and much higher-income individuals. In contrast, renters tend to have more similar incomes, which are generally lower, with less variability across the group.\")\n"
      ]
    },
    {
      "cell_type": "markdown",
      "metadata": {},
      "source": [
        "\n",
        "\n",
        "## Question 2: More on distributions\n",
        "\n",
        "### Q2.a Distributions of number of people in the household\n",
        "\n",
        "Create a histogram of the number of people in the household (`NP`) for the `acs` data. Use the `bins` argument to create a histogram with 20 bins. Briefly discuss the location, spread, and skew of the distribution.\n"
      ]
    },
    {
      "cell_type": "code",
      "execution_count": 24,
      "metadata": {},
      "outputs": [
        {
          "data": {
            "image/png": "[encoded data removed]",
            "text/plain": [
              "<Figure size 640x480 with 1 Axes>"
            ]
          },
          "metadata": {},
          "output_type": "display_data"
        }
      ],
      "source": [
        "# Plot histogram for \"NP\"\n",
        "plt.hist(acs[\"NP\"], bins=20, edgecolor='black')\n",
        "plt.title('Number of People in Household')\n",
        "plt.xlabel('Number of People')\n",
        "plt.ylabel('Frequency')\n",
        "plt.show()"
      ]
    },
    {
      "cell_type": "markdown",
      "metadata": {},
      "source": [
        "Location:\n",
        "The majority of households have between 1 to 3 people, with the peak around 2 people per household. This suggests that small households are the most common in the dataset.\n",
        "Spread:\n",
        "The number of people in households ranges from 1 to about 20, but most households have fewer than 6 people. The data is concentrated in the lower range, with a sharp drop-off after 5 people per household.\n",
        "Skew:\n",
        "The distribution is right-skewed (positively skewed), meaning there are a small number of households with many people (greater than 5), but these are less common.\n",
        "In summary, the histogram shows that small households (1 to 3 people) are most typical, and there are fewer large households, creating a right-skewed distribution."
      ]
    },
    {
      "cell_type": "markdown",
      "metadata": {},
      "source": [
        "\n",
        "### Q2.b Summaries of `NP`\n",
        "\n",
        "Check your answers to the previous question by computing the mean, median, IQR, standard deviation, quantile skewness using the 0.25 and 0.75 quantile, and the coefficient of skewness of the `NP` column.\n"
      ]
    },
    {
      "cell_type": "code",
      "execution_count": 25,
      "metadata": {},
      "outputs": [
        {
          "name": "stdout",
          "output_type": "stream",
          "text": [
            "Mean: 2.208764712686891, Median: 2.0, IQR: 2.0, Std Dev: 1.5263892280571307, Quantile Skewness: 0.6551408917323487, Coefficient Skewness: 0.4103109000958116\n"
          ]
        }
      ],
      "source": [
        "# Summaries of NP\n",
        "mean_np = acs[\"NP\"].mean()\n",
        "median_np = acs[\"NP\"].median()\n",
        "iqr_np = np.percentile(acs[\"NP\"].dropna(), 75) - np.percentile(acs[\"NP\"].dropna(), 25)\n",
        "std_np = acs[\"NP\"].std()\n",
        "quantile_skewness = (acs[\"NP\"].quantile(0.75) - acs[\"NP\"].quantile(0.25)) / (2 * std_np)\n",
        "coefficient_skewness = 3 * (mean_np - median_np) / std_np\n",
        "\n",
        "print(f'Mean: {mean_np}, Median: {median_np}, IQR: {iqr_np}, Std Dev: {std_np}, Quantile Skewness: {quantile_skewness}, Coefficient Skewness: {coefficient_skewness}')\n"
      ]
    },
    {
      "cell_type": "markdown",
      "metadata": {},
      "source": [
        "Based on the results my summary was relatively accurate."
      ]
    },
    {
      "cell_type": "markdown",
      "metadata": {},
      "source": [
        "\n",
        "### Q2.c Comparing conditional distribution of NP for owners and renters\n",
        "\n",
        "Create a side-by-side boxplot of the number of people in the household for owners and renters. What do you notice about the distributions of the number of people in the household for owners and renters?\n"
      ]
    },
    {
      "cell_type": "code",
      "execution_count": 26,
      "metadata": {},
      "outputs": [
        {
          "data": {
            "image/png": "[encoded data removed]",
            "text/plain": [
              "<Figure size 640x480 with 1 Axes>"
            ]
          },
          "metadata": {},
          "output_type": "display_data"
        }
      ],
      "source": [
        "# Create boxplot for owners and renters\n",
        "sb.boxplot(data=acs, x=\"NP\", y=acs[\"VALP\"].notna().replace({True: \"Owner\", False: \"Renter\"}))\n",
        "plt.title('Number of People in Household: Owners vs Renters')\n",
        "plt.show()"
      ]
    },
    {
      "cell_type": "markdown",
      "metadata": {},
      "source": [
        "This suggests that while the typical household size is similar for both groups, homeowners are more likely to have very large households (as indicated by the outliers), whereas renters tend to have a wider spread of smaller to mid-sized households. Renters show more variability within the typical range (1-4 people), while homeowners have more extreme values (households with many more people)."
      ]
    },
    {
      "cell_type": "markdown",
      "metadata": {},
      "source": [
        "\n",
        "### Q2.d Effect size of the difference in means\n",
        "\n",
        "Compute the effect size of the difference in means of the number of people in the household for owners and renters. Use the formula for Cohen's $d$\n",
        "\n",
        "$$d = \\frac{\\bar X_1 - \\bar X_2}{S_p}$$\n",
        "\n",
        "where $\\bar X_1$ and $\\bar X_2$ are the means of the two groups and $S_p$ is the pooled standard deviation.\n",
        "\n",
        "Using the following table of effect sizes, how would you interpret the effect size of the difference in means of the number of people in the household for owners and renters?\n",
        "\n",
        "| Effect size | Interpretation |\n",
        "|-------------|-----------------|\n",
        "| (0, 0.2]    | Small           |\n",
        "| (0.2, 0.5]  | Medium          |\n",
        "| (0.5, 0.1]  | Large           |\n",
        "| (1, 2]      | Very large      |\n",
        "\n",
        "\n"
      ]
    },
    {
      "cell_type": "code",
      "execution_count": 27,
      "metadata": {},
      "outputs": [
        {
          "name": "stdout",
          "output_type": "stream",
          "text": [
            "Cohen's d: 0.20477751312029022\n"
          ]
        }
      ],
      "source": [
        "# Compute Cohen's d\n",
        "mean_owners = owners[\"NP\"].mean()\n",
        "mean_renters = renters[\"NP\"].mean()\n",
        "\n",
        "std_owners = owners[\"NP\"].std()\n",
        "std_renters = renters[\"NP\"].std()\n",
        "\n",
        "pooled_std = np.sqrt(((len(owners) - 1) * std_owners**2 + (len(renters) - 1) * std_renters**2) / (len(owners) + len(renters) - 2))\n",
        "cohens_d = (mean_owners - mean_renters) / pooled_std\n",
        "\n",
        "print(f'Cohen\\'s d: {cohens_d}')\n"
      ]
    },
    {
      "cell_type": "markdown",
      "metadata": {},
      "source": [
        "Based on Cohen's d, this effect size is considered Medium. The difference in the mean number of people in households between owners and renters is statistically small, although it is noticeable.\n",
        "This suggests that while there is a difference in household size between owners and renters, it is not a large effect and likely not substantial in a practical sense. In other words, homeowners and renters have similar average household sizes, with only a slight difference between the two groups."
      ]
    },
    {
      "cell_type": "markdown",
      "metadata": {},
      "source": [
        "\n",
        "## Question 3: More on means and medians\n",
        "\n",
        "For this problem, we will investigate some theoretical properties of means and medians.\n",
        "\n",
        "### Q3.a\n",
        "\n",
        "We have already seen that the mean is the unique point $\\bar X$ that makes $\\sum_{i=1}^n (X_i - \\bar X) = 0$. While we didn't introduce it as such, it is also the case that $\\bar X$ is the point that **minimizes** $\\sum_{i=1}^n (X_i - \\bar X)^2$, the sum of squared deviations.\n",
        "\n",
        "Using the `HINCP` column of the `acs` data, demonstrate that the sum of squared deviations from the mean is less than the sum of squared deviations from the median ($\\sum_{i=1}^n (X_i - \\tilde X)^2$).\n",
        "\n",
        "Recall that `x**2` is how we square things in Python."
      ]
    },
    {
      "cell_type": "code",
      "execution_count": 28,
      "metadata": {},
      "outputs": [
        {
          "name": "stdout",
          "output_type": "stream",
          "text": [
            "SSD from mean: 2514930676893640.5, SSD from median: 2693213854216370.0\n"
          ]
        }
      ],
      "source": [
        "# Compare sum of squared deviations from mean and median\n",
        "mean_hincp = acs[\"HINCP\"].mean()\n",
        "median_hincp = acs[\"HINCP\"].median()\n",
        "\n",
        "ssd_mean = ((acs[\"HINCP\"] - mean_hincp) ** 2).sum()\n",
        "ssd_median = ((acs[\"HINCP\"] - median_hincp) ** 2).sum()\n",
        "\n",
        "print(f'SSD from mean: {ssd_mean}, SSD from median: {ssd_median}')\n"
      ]
    },
    {
      "cell_type": "markdown",
      "metadata": {},
      "source": [
        "### Q3.b\n",
        "\n",
        "Now, using $\\bar X$ and $\\tilde X$, compute the **sum of absolute distances**, $\\sum_{i=1}^n | X_i - \\bar X |$ and $\\sum_{i=1}^n |X_i - \\tilde X|$. Recall the `.abs()` method can compute the absolute value of a series."
      ]
    },
    {
      "cell_type": "code",
      "execution_count": 29,
      "metadata": {},
      "outputs": [
        {
          "name": "stdout",
          "output_type": "stream",
          "text": [
            "SAD from mean: 15613409566.75057, SAD from median: 14508223606.0\n"
          ]
        }
      ],
      "source": [
        "# Compare sum of absolute deviations\n",
        "sad_mean = (acs[\"HINCP\"] - mean_hincp).abs().sum()\n",
        "sad_median = (acs[\"HINCP\"] - median_hincp).abs().sum()\n",
        "\n",
        "print(f'SAD from mean: {sad_mean}, SAD from median: {sad_median}')\n"
      ]
    },
    {
      "cell_type": "markdown",
      "metadata": {},
      "source": [
        "### Q3.c\n",
        "\n",
        "While we are not rising to the level of a mathematical proof, what do these result suggest about which type of measure of location would minimize the sum of absolute differences?\n"
      ]
    },
    {
      "cell_type": "markdown",
      "metadata": {},
      "source": [
        "In summary, the median minimizes the sum of absolute differences, while the mean minimizes the sum of squared deviations. This suggests that if minimizing absolute deviations from the central value is important, the median is the best measure of central location."
      ]
    }
  ],
  "metadata": {
    "kernelspec": {
      "display_name": "Python 3",
      "language": "python",
      "name": "python3"
    },
    "language_info": {
      "codemirror_mode": {
        "name": "ipython",
        "version": 3
      },
      "file_extension": ".py",
      "mimetype": "text/x-python",
      "name": "python",
      "nbconvert_exporter": "python",
      "pygments_lexer": "ipython3",
      "version": "3.12.1"
    }
  },
  "nbformat": 4,
  "nbformat_minor": 4
}
